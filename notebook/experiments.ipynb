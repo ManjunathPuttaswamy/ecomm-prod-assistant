{
 "cells": [
  {
   "cell_type": "code",
   "execution_count": 1,
   "id": "42696927",
   "metadata": {},
   "outputs": [
    {
     "name": "stdout",
     "output_type": "stream",
     "text": [
      "hello Manju\n"
     ]
    }
   ],
   "source": [
    "print(\"hello Manju\")"
   ]
  },
  {
   "cell_type": "code",
   "execution_count": 2,
   "id": "7692f68c",
   "metadata": {},
   "outputs": [
    {
     "name": "stdout",
     "output_type": "stream",
     "text": [
      "Vector length: 768\n"
     ]
    }
   ],
   "source": [
    "from langchain_google_genai import GoogleGenerativeAIEmbeddings, ChatGoogleGenerativeAI\n",
    "from langchain_groq import ChatGroq\n",
    "import os\n",
    "\n",
    "embeddings = GoogleGenerativeAIEmbeddings(\n",
    "    model=\"models/embedding-001\",\n",
    "    google_api_key=os.getenv(\"GOOGLE_API_KEY\")   # pass explicitly to be safe\n",
    ")\n",
    "\n",
    "vector = embeddings.embed_query(\"hello world\")\n",
    "print(\"Vector length:\", len(vector))  # usually 768\n"
   ]
  }
 ],
 "metadata": {
  "kernelspec": {
   "display_name": "ecomm-prod",
   "language": "python",
   "name": "python3"
  },
  "language_info": {
   "codemirror_mode": {
    "name": "ipython",
    "version": 3
   },
   "file_extension": ".py",
   "mimetype": "text/x-python",
   "name": "python",
   "nbconvert_exporter": "python",
   "pygments_lexer": "ipython3",
   "version": "3.10.18"
  }
 },
 "nbformat": 4,
 "nbformat_minor": 5
}
